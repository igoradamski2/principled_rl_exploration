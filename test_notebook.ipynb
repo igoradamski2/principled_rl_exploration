{
 "cells": [
  {
   "cell_type": "code",
   "execution_count": 1,
   "metadata": {},
   "outputs": [],
   "source": [
    "from src.environments import *\n",
    "from src.agents import *"
   ]
  },
  {
   "cell_type": "code",
   "execution_count": 2,
   "metadata": {},
   "outputs": [],
   "source": [
    "env   = MultiArmedBandit.default()\n",
    "agent = BayesianAgent.default()"
   ]
  },
  {
   "cell_type": "code",
   "execution_count": 13,
   "metadata": {},
   "outputs": [
    {
     "output_type": "stream",
     "name": "stdout",
     "text": "change!\nchange!\nchange!\nchange!\nchange!\nchange!\n"
    },
    {
     "output_type": "execute_result",
     "data": {
      "text/plain": "<src.agents.BayesianAgent at 0x11d7af6d8>"
     },
     "metadata": {},
     "execution_count": 13
    }
   ],
   "source": [
    "env.play_episode(1000, agent)"
   ]
  },
  {
   "cell_type": "code",
   "execution_count": 14,
   "metadata": {
    "tags": [
     "outputPrepend",
     "outputPrepend",
     "outputPrepend",
     "outputPrepend"
    ]
   },
   "outputs": [],
   "source": [
    "Q, u = agent.get_monte_carlo_Q(10)"
   ]
  },
  {
   "cell_type": "code",
   "execution_count": 15,
   "metadata": {},
   "outputs": [
    {
     "output_type": "execute_result",
     "data": {
      "text/plain": "(array([[18.90984374, 19.73932444, 20.91181549]]),\n array([[0.09215515, 0.1690312 , 0.09090731]]))"
     },
     "metadata": {},
     "execution_count": 15
    }
   ],
   "source": [
    "Q, u"
   ]
  },
  {
   "cell_type": "code",
   "execution_count": 19,
   "metadata": {},
   "outputs": [
    {
     "output_type": "execute_result",
     "data": {
      "text/plain": "[]"
     },
     "metadata": {},
     "execution_count": 19
    }
   ],
   "source": [
    "[pair[1] for pair in agent._sa_pairs if pair[0] == 1]"
   ]
  },
  {
   "cell_type": "code",
   "execution_count": 7,
   "metadata": {},
   "outputs": [],
   "source": [
    "D  = agent.get_moment_dynamics_matrix(which_moment = 1)\n",
    "R  = agent.get_moment_rewards_matrix(which_moment = 1)\n",
    "R2 = agent.get_moment_rewards_matrix(which_moment = 2)"
   ]
  },
  {
   "cell_type": "code",
   "execution_count": 9,
   "metadata": {},
   "outputs": [
    {
     "output_type": "execute_result",
     "data": {
      "text/plain": "array([[1.01524175, 2.01668189, 0.4946324 ]])"
     },
     "metadata": {},
     "execution_count": 9
    }
   ],
   "source": [
    "np.sqrt(R2 - R**2)"
   ]
  },
  {
   "cell_type": "code",
   "execution_count": 19,
   "metadata": {},
   "outputs": [
    {
     "output_type": "execute_result",
     "data": {
      "text/plain": "0.5000206012907311"
     },
     "metadata": {},
     "execution_count": 19
    }
   ],
   "source": [
    "from scipy.stats import norm\n",
    "\n",
    "x = [10, np.sqrt(5)]\n",
    "y = [8, np.sqrt(1500000000)]\n",
    "\n",
    "norm.cdf((x[0] - y[0])/np.sqrt((x[1]**2 + y[1]**2)))"
   ]
  },
  {
   "cell_type": "code",
   "execution_count": 318,
   "metadata": {},
   "outputs": [],
   "source": [
    "a1 = [10, 0.00001**2]\n",
    "a2 = [5, 7**2]\n",
    "a3 = [8, 1**2]\n",
    "\n",
    "e_1 = a1[0] + np.sqrt(a1[1])*norm.pdf((a1[0] - a1[0])/np.sqrt(a1[1]))/(1-norm.cdf((a1[0] - a1[0])/np.sqrt(a1[1])))\n",
    "e_2 = a2[0] + np.sqrt(a2[1])*norm.pdf((a1[0] - a2[0])/np.sqrt(a2[1]))/(1-norm.cdf((a1[0] - a2[0])/np.sqrt(a2[1])))\n",
    "e_3 = a3[0] + np.sqrt(a3[1])*norm.pdf((a1[0] - a3[0])/np.sqrt(a3[1]))/(1-norm.cdf((a1[0] - a3[0])/np.sqrt(a3[1])))\n",
    "\n",
    "p_1 = 1-norm.cdf((a1[0]-a1[0])/np.sqrt(a1[1]))\n",
    "p_2 = 1-norm.cdf((a1[0]-a2[0])/np.sqrt(a2[1]))\n",
    "p_3 = 1-norm.cdf((a1[0]-a3[0])/np.sqrt(a3[1]))"
   ]
  },
  {
   "cell_type": "code",
   "execution_count": 319,
   "metadata": {},
   "outputs": [
    {
     "output_type": "stream",
     "name": "stdout",
     "text": "10.000007978845607 14.109801026080813 10.37321553282284 0.5 0.23752526202697655 0.02275013194817921\n"
    }
   ],
   "source": [
    "print(e_1, e_2, e_3, p_1, p_2, p_3)"
   ]
  },
  {
   "cell_type": "code",
   "execution_count": 320,
   "metadata": {},
   "outputs": [
    {
     "output_type": "stream",
     "name": "stdout",
     "text": "Scheme 1\nPotential value of taking action weighed by probability of success\n5.000003989422804 3.3514341858683476 0.23599202209862172\nPotential loss of taking action weighed by probability of failure\n0.0 3.812373689865117 1.9544997361036416\nIs is worth to take this action?\nTrue False False\n"
    }
   ],
   "source": [
    "print('Scheme 1')\n",
    "print('Potential value of taking action weighed by probability of success')\n",
    "print(e_1*p_1, e_2*p_2, e_3*p_3)\n",
    "\n",
    "print('Potential loss of taking action weighed by probability of failure')\n",
    "print((a1[0]-a1[0])*(1-p_1), (a1[0]-a2[0])*(1-p_2), (a1[0]-a3[0])*(1-p_3))\n",
    "\n",
    "print('Is is worth to take this action?')\n",
    "print(e_1*p_1 > (a1[0]-a1[0])*(1-p_1), e_2*p_2 > (a1[0]-a2[0])*(1-p_2), e_3*p_3 > (a1[0]-a3[0])*(1-p_3))"
   ]
  },
  {
   "cell_type": "code",
   "execution_count": 314,
   "metadata": {},
   "outputs": [
    {
     "output_type": "stream",
     "name": "stdout",
     "text": "Scheme 2\na2>a1 =  0.4593621387038567\na3>a1 =  0.0\n"
    }
   ],
   "source": [
    "print('Scheme 2')\n",
    "print('a2>a1 = ', norm.cdf((a2[0] - a1[0])/np.sqrt((a2[1]**2 + a1[1]**2))))\n",
    "print('a3>a1 = ', norm.cdf((a3[0] - a1[0])/np.sqrt((a3[1]**2 + a1[1]**2))))"
   ]
  },
  {
   "cell_type": "code",
   "execution_count": 324,
   "metadata": {},
   "outputs": [
    {
     "output_type": "stream",
     "name": "stdout",
     "text": "1.2206072645530175\n0.5506945103893577\n1.3862943611198906\n0.0\n"
    }
   ],
   "source": [
    "from scipy.stats import entropy\n",
    "\n",
    "print(entropy([0.1, 0.5, 0.2, 0.2]))\n",
    "\n",
    "print(entropy([0.01, 0.85, 0.05, 0.09]))\n",
    "\n",
    "print(entropy([0.25, 0.25, 0.25, 0.25]))\n",
    "\n",
    "print(entropy([1, 0, 0, 0]))"
   ]
  },
  {
   "cell_type": "code",
   "execution_count": 230,
   "metadata": {},
   "outputs": [
    {
     "output_type": "stream",
     "name": "stdout",
     "text": "Value of information in q units\n0.0007978845608036522 0.35268075098577967 0.2444561927113078\n"
    }
   ],
   "source": [
    "print('Value of information in q units')\n",
    "print(e_1-a1[0], e_2-a1[0], e_3-a1[0])"
   ]
  },
  {
   "cell_type": "code",
   "execution_count": 231,
   "metadata": {},
   "outputs": [
    {
     "output_type": "stream",
     "name": "stdout",
     "text": "Value of information in q units weighed by probability\n0.0003989422804018261 7.176207156384138e-05 0.0012006801430331073\n"
    }
   ],
   "source": [
    "print('Value of information in q units weighed by probability')\n",
    "print(p_1*(e_1-a1[0]), p_2*(e_2-a1[0]), p_3*(e_3-a1[0]))"
   ]
  },
  {
   "cell_type": "code",
   "execution_count": 140,
   "metadata": {},
   "outputs": [
    {
     "output_type": "stream",
     "name": "stdout",
     "text": "0.6094084542387069 0.06937889648903672 0.32121264927225635\n"
    }
   ],
   "source": [
    "print(p_1/(p_1+p_2+p_3), p_2/(p_1+p_2+p_3), p_3/(p_1+p_2+p_3))"
   ]
  },
  {
   "cell_type": "code",
   "execution_count": 141,
   "metadata": {},
   "outputs": [
    {
     "output_type": "stream",
     "name": "stdout",
     "text": "5.126156626101008 0.646060530353008 3.141240122396709\n"
    }
   ],
   "source": [
    "print(e_1*p_1, e_2*p_2, e_3*p_3)"
   ]
  },
  {
   "cell_type": "code",
   "execution_count": 327,
   "metadata": {},
   "outputs": [],
   "source": [
    "from scipy import stats\n",
    "num_samples = 10\n",
    "tau = stats.gamma.rvs(a = 2, scale = 1/2, size=num_samples)"
   ]
  },
  {
   "cell_type": "code",
   "execution_count": 336,
   "metadata": {},
   "outputs": [],
   "source": [
    "m = 100 + stats.norm.rvs(size = num_samples)*np.sqrt(1/(5*tau))"
   ]
  },
  {
   "cell_type": "code",
   "execution_count": 331,
   "metadata": {},
   "outputs": [
    {
     "output_type": "execute_result",
     "data": {
      "text/plain": "array([0.80506246, 1.19220641, 0.38679645, 0.42332936, 0.96034694,\n       1.15398577, 2.13803186, 0.72072044, 0.60088745, 1.95226129])"
     },
     "metadata": {},
     "execution_count": 331
    }
   ],
   "source": [
    "tau"
   ]
  },
  {
   "cell_type": "code",
   "execution_count": 339,
   "metadata": {},
   "outputs": [
    {
     "output_type": "execute_result",
     "data": {
      "text/plain": "array([ 2,  6, 12, 20])"
     },
     "metadata": {},
     "execution_count": 339
    }
   ],
   "source": [
    "np.random.choice()"
   ]
  }
 ],
 "metadata": {
  "language_info": {
   "codemirror_mode": {
    "name": "ipython",
    "version": 3
   },
   "file_extension": ".py",
   "mimetype": "text/x-python",
   "name": "python",
   "nbconvert_exporter": "python",
   "pygments_lexer": "ipython3",
   "version": "3.6.9-final"
  },
  "orig_nbformat": 2,
  "kernelspec": {
   "name": "python3",
   "display_name": "Python 3"
  }
 },
 "nbformat": 4,
 "nbformat_minor": 2
}